{
 "cells": [
  {
   "cell_type": "code",
   "execution_count": 1,
   "metadata": {},
   "outputs": [],
   "source": [
    "import pandas as pd\n",
    "from pyecharts import options as opts\n",
    "from pyecharts.charts import Bar,Map, Timeline, Line, Pie, Grid\n",
    "from pyecharts.globals import ThemeType"
   ]
  },
  {
   "cell_type": "code",
   "execution_count": 2,
   "metadata": {},
   "outputs": [],
   "source": [
    "from pyecharts.datasets import register_url\n",
    "register_url(\"https://echarts-maps.github.io/echarts-countries-js/\")"
   ]
  },
  {
   "cell_type": "markdown",
   "metadata": {},
   "source": [
    "**Shooting per state over time**"
   ]
  },
  {
   "cell_type": "code",
   "execution_count": 3,
   "metadata": {},
   "outputs": [
    {
     "name": "stdout",
     "output_type": "stream",
     "text": [
      "0.0 9.54\n"
     ]
    }
   ],
   "source": [
    "data = pd.read_csv(\"data/df_time.csv\")\n",
    "\n",
    "pop = pd.read_csv(\"data/acs2015_county_data.csv\")\n",
    "pop = pd.DataFrame(pop.groupby(\"state_full\")['TotalPop'].sum())\n",
    "\n",
    "abbr = pd.read_csv(\"data/abre_ful.csv\",index_col='state')\n",
    "\n",
    "shooting = pd.crosstab(data['state'], data['year'], data['race'], aggfunc='count')\n",
    "\n",
    "shooting = shooting.join(abbr,on = 'state').set_index('state_full')\n",
    "\n",
    "shooting = shooting.fillna(0)\n",
    "\n",
    "shooting = shooting.join(pop,on = \"state_full\")\n",
    "\n",
    "for y in range(2015,2021):\n",
    "    shooting[y] = round(shooting[y]/shooting['TotalPop']*1000000,2)\n",
    "\n",
    "del shooting['TotalPop']\n",
    "\n",
    "max_=shooting.stack().max()\n",
    "min_=shooting.stack().min()\n",
    "print(min_,max_)"
   ]
  },
  {
   "cell_type": "code",
   "execution_count": 4,
   "metadata": {},
   "outputs": [
    {
     "name": "stdout",
     "output_type": "stream",
     "text": [
      "['Alaska', 'Alabama', 'Arkansas', 'Arizona', 'California', 'Colorado', 'Connecticut', 'District of Columbia', 'Delaware', 'Florida', 'Georgia', 'Hawaii', 'Iowa', 'Idaho', 'Illinois', 'Indiana', 'Kansas', 'Kentucky', 'Louisiana', 'Massachusetts', 'Maryland', 'Maine', 'Michigan', 'Minnesota', 'Missouri', 'Mississippi', 'Montana', 'North Carolina', 'North Dakota', 'Nebraska', 'New Hampshire', 'New Jeresy', 'New Mexico', 'Nevada', 'New York', 'Ohio', 'Oklahoma', 'Oregon', 'Pennsylvania', 'Rhode Island', 'SouthCarolina', 'South Dakota', 'Tennessee', 'Texas', 'Utah', 'Virginia', 'Vermont', 'Washington', 'Wisconsin', 'West Virginia', 'Wyoming']\n",
      "51\n"
     ]
    }
   ],
   "source": [
    "area_name = shooting.index.tolist()\n",
    "print(area_name)\n",
    "print(len(area_name))"
   ]
  },
  {
   "cell_type": "code",
   "execution_count": 4,
   "metadata": {},
   "outputs": [],
   "source": [
    "def get_allcharts(year,shooting):\n",
    "    max_=shooting.stack().max()\n",
    "    min_=shooting.stack().min()\n",
    "    shootingOfYear = shooting.sort_values(by = [year],ascending = False)\n",
    "\n",
    "    \n",
    "########bar\n",
    "    bar = (\n",
    "        Bar(init_opts = opts.InitOpts(width=\"1980px\",height=\"1080px\",theme=ThemeType.DARK))\n",
    "        .add_xaxis(shootingOfYear.index.tolist())\n",
    "        .add_yaxis(\"Shootings per state\",\n",
    "                   shootingOfYear[year].tolist(),\n",
    "                   label_opts=opts.LabelOpts(is_show=True,\n",
    "                                             font_size = 11,\n",
    "                                             position = \"right\",\n",
    "                                             formatter=\"{b} : {c}\")\n",
    "        )\n",
    "        .reversal_axis()\n",
    "        .set_global_opts(\n",
    "            title_opts=opts.TitleOpts(title=\"Year {}'s shooting rate per state (*1e-6)\".format(year),\n",
    "                                      pos_left = \"center\",\n",
    "                                      padding = 20,\n",
    "                                      title_textstyle_opts=opts.TextStyleOpts(font_weight=\"bolder\",font_size=36)\n",
    "                                     ),\n",
    "            yaxis_opts = opts.AxisOpts(axislabel_opts = opts.LabelOpts(is_show = False)),\n",
    "            xaxis_opts = opts.AxisOpts(axislabel_opts = opts.LabelOpts(is_show = False)),\n",
    "            legend_opts = opts.LegendOpts(is_show = False),\n",
    "            visualmap_opts=opts.VisualMapOpts(is_show=True,is_calculable=True,\n",
    "                                              dimension = 0,\n",
    "                                              min_=min_,\n",
    "                                              max_=max_,\n",
    "                                              range_text=['high','low'],\n",
    "                                              pos_left=\"1%\",pos_top=\"1%\"\n",
    "                                             ),\n",
    "            graphic_opts=[\n",
    "                opts.GraphicGroup(\n",
    "                    graphic_item=opts.GraphicItem(\n",
    "                        bounding=\"raw\",\n",
    "                        left=\"95%\",\n",
    "                        bottom=\"98%\",\n",
    "                        z=100,\n",
    "                        is_draggable=False\n",
    "                    ),\n",
    "                    children=[\n",
    "                        opts.GraphicText(\n",
    "                            graphic_item=opts.GraphicItem(\n",
    "                                 # 设置字形的 大小，位置\n",
    "                                left=\"center\",\n",
    "                                top=\"center\",\n",
    "                                z=100\n",
    "                            ),\n",
    "                        ),\n",
    "                    ]\n",
    "                )\n",
    "            ]\n",
    "        )\n",
    "    )\n",
    "########map\n",
    "    map0 = (\n",
    "        Map(init_opts = opts.InitOpts(width=\"1980px\",height=\"1080px\",theme=ThemeType.DARK))\n",
    "        .add(\"Shooting\", \n",
    "             [list(z) for z in zip(shootingOfYear.index.tolist(), shootingOfYear[year].tolist())], \n",
    "             \"美国\",#USA\n",
    "             label_opts=opts.LabelOpts(is_show=True,font_size = 14),\n",
    "             center=[-112,34],\n",
    "             zoom = 0.8\n",
    "            )\n",
    "        .set_global_opts(\n",
    "            legend_opts = opts.LegendOpts(is_show = False),\n",
    "            visualmap_opts=opts.VisualMapOpts(is_show=True,is_calculable=True,\n",
    "                                               min_=min_,\n",
    "                                               max_=max_,\n",
    "                                               range_text=['high','low'],\n",
    "                                               pos_left=\"1%\",pos_top=\"1%\"\n",
    "                                             )\n",
    "        )\n",
    "    )\n",
    "    \n",
    "    #combination\n",
    "    grid = (\n",
    "        Grid(init_opts = opts.InitOpts(width=\"1980px\",height=\"1080px\",theme=ThemeType.DARK))\n",
    "        .add(bar, grid_opts=opts.GridOpts(pos_top=\"50%\",pos_bottom=\"4%\", pos_left= \"2%\",pos_right=\"10%\"),\n",
    "             is_control_axis_index=False)\n",
    "        .add(map0, grid_opts=opts.GridOpts(pos_top = \"1%\",pos_bottom=\"70%\",pos_left = \"40%\",pos_right=\"1%\")\n",
    "            ,is_control_axis_index=False)\n",
    "    )\n",
    "    return grid   "
   ]
  },
  {
   "cell_type": "code",
   "execution_count": 10,
   "metadata": {},
   "outputs": [
    {
     "data": {
      "text/plain": [
       "'D:\\\\file\\\\JupyterFile\\\\Data2020\\\\final_report\\\\shooting_2015-2020.html'"
      ]
     },
     "execution_count": 10,
     "metadata": {},
     "output_type": "execute_result"
    }
   ],
   "source": [
    "timeline = Timeline(init_opts=opts.InitOpts(width=\"1980px\", height=\"1080px\",theme=ThemeType.DARK))\n",
    "for y in range(2015, 2021):\n",
    "    timeline.add(get_allcharts(y,shooting), time_point=str(y))\n",
    "timeline.add_schema(is_auto_play=True, play_interval=1000,is_timeline_show = True,orient=\"vertical\",width=\"3%\",\n",
    "                   pos_top = \"4%\",pos_left = \"95%\",pos_bottom = \"2%\")\n",
    "timeline.render(\"shooting_2015-2020.html\")"
   ]
  },
  {
   "cell_type": "markdown",
   "metadata": {},
   "source": [
    "**Shooting rate of black per state**"
   ]
  },
  {
   "cell_type": "code",
   "execution_count": 7,
   "metadata": {},
   "outputs": [
    {
     "name": "stdout",
     "output_type": "stream",
     "text": [
      "0.0 7.72\n"
     ]
    }
   ],
   "source": [
    "data = pd.read_csv(\"df_time.csv\")\n",
    "data = data[data['race'] == 1]\n",
    "\n",
    "pop = pd.read_csv(\"acs2015_county_data.csv\")\n",
    "pop = pd.DataFrame(pop.groupby(\"state_full\")['TotalPop'].sum())\n",
    "\n",
    "abbr = pd.read_csv(\"abre_ful.csv\",index_col='state')\n",
    "\n",
    "shooting = pd.crosstab(data['state'], data['year'], data['race'], aggfunc='count')\n",
    "\n",
    "shooting = shooting.join(abbr,on = 'state').set_index('state_full')\n",
    "\n",
    "shooting = shooting.fillna(0)\n",
    "\n",
    "shooting = shooting.join(pop,on = \"state_full\")\n",
    "\n",
    "for y in range(2015,2021):\n",
    "    shooting[y] = round(shooting[y]/shooting['TotalPop']*1000000,2)\n",
    "\n",
    "del shooting['TotalPop']\n",
    "\n",
    "max_=shooting.stack().max()\n",
    "min_=shooting.stack().min()\n",
    "print(min_,max_)"
   ]
  },
  {
   "cell_type": "code",
   "execution_count": null,
   "metadata": {},
   "outputs": [],
   "source": [
    "def get_allcharts(year,shooting):\n",
    "    max_=shooting.stack().max()\n",
    "    min_=shooting.stack().min()\n",
    "    shootingOfYear = shooting.sort_values(by = [year],ascending = False)\n",
    "\n",
    "    \n",
    "########bar\n",
    "    bar = (\n",
    "        Bar(init_opts = opts.InitOpts(width=\"1980px\",height=\"1080px\",theme=ThemeType.DARK))\n",
    "        .add_xaxis(shootingOfYear.index.tolist())\n",
    "        .add_yaxis(\"Shootings per state\",\n",
    "                   shootingOfYear[year].tolist(),\n",
    "                   label_opts=opts.LabelOpts(is_show=True,\n",
    "                                             font_size = 11,\n",
    "                                             position = \"right\",\n",
    "                                             formatter=\"{b} : {c}\")\n",
    "        )\n",
    "        .reversal_axis()\n",
    "        .set_global_opts(\n",
    "            title_opts=opts.TitleOpts(title=\"Year {}'s shooting rate of black per state (*1e-6)\".format(year),\n",
    "                                      pos_left = \"center\",\n",
    "                                      padding = 20,\n",
    "                                      title_textstyle_opts=opts.TextStyleOpts(font_weight=\"bolder\",font_size=36)\n",
    "                                     ),\n",
    "            yaxis_opts = opts.AxisOpts(axislabel_opts = opts.LabelOpts(is_show = False)),\n",
    "            xaxis_opts = opts.AxisOpts(axislabel_opts = opts.LabelOpts(is_show = False)),\n",
    "            legend_opts = opts.LegendOpts(is_show = False),\n",
    "            visualmap_opts=opts.VisualMapOpts(is_show=True,is_calculable=True,\n",
    "                                              dimension = 0,\n",
    "                                              min_=min_,\n",
    "                                              max_=max_,\n",
    "                                              range_text=['high','low'],\n",
    "                                              pos_left=\"1%\",pos_top=\"1%\"\n",
    "                                             ),\n",
    "            graphic_opts=[\n",
    "                opts.GraphicGroup(\n",
    "                    graphic_item=opts.GraphicItem(\n",
    "                        bounding=\"raw\",\n",
    "                        left=\"95%\",\n",
    "                        bottom=\"98%\",\n",
    "                        z=100,\n",
    "                        is_draggable=False\n",
    "                    ),\n",
    "                    children=[\n",
    "                        opts.GraphicText(\n",
    "                            graphic_item=opts.GraphicItem(\n",
    "                                 # 设置字形的 大小，位置\n",
    "                                left=\"center\",\n",
    "                                top=\"center\",\n",
    "                                z=100\n",
    "                            ),\n",
    "                        ),\n",
    "                    ]\n",
    "                )\n",
    "            ]\n",
    "        )\n",
    "    )\n",
    "########map\n",
    "    map0 = (\n",
    "        Map(init_opts = opts.InitOpts(width=\"1980px\",height=\"1080px\",theme=ThemeType.DARK))\n",
    "        .add(\"Shooting\", \n",
    "             [list(z) for z in zip(shootingOfYear.index.tolist(), shootingOfYear[year].tolist())], \n",
    "             \"美国\",#USA\n",
    "             label_opts=opts.LabelOpts(is_show=True,font_size = 14),\n",
    "             center=[-112,34],\n",
    "             zoom = 0.8\n",
    "            )\n",
    "        .set_global_opts(\n",
    "            legend_opts = opts.LegendOpts(is_show = False),\n",
    "            visualmap_opts=opts.VisualMapOpts(is_show=True,is_calculable=True,\n",
    "                                               min_=min_,\n",
    "                                               max_=max_,\n",
    "                                               range_text=['high','low'],\n",
    "                                               pos_left=\"1%\",pos_top=\"1%\"\n",
    "                                             )\n",
    "        )\n",
    "    )\n",
    "    \n",
    "    #combination\n",
    "    grid = (\n",
    "        Grid(init_opts = opts.InitOpts(width=\"1980px\",height=\"1080px\",theme=ThemeType.DARK))\n",
    "        .add(bar, grid_opts=opts.GridOpts(pos_top=\"50%\",pos_bottom=\"4%\", pos_left= \"2%\",pos_right=\"10%\"),\n",
    "             is_control_axis_index=False)\n",
    "        .add(map0, grid_opts=opts.GridOpts(pos_top = \"1%\",pos_bottom=\"70%\",pos_left = \"40%\",pos_right=\"1%\")\n",
    "            ,is_control_axis_index=False)\n",
    "    )\n",
    "    return grid   "
   ]
  },
  {
   "cell_type": "code",
   "execution_count": 8,
   "metadata": {},
   "outputs": [
    {
     "data": {
      "text/plain": [
       "'D:\\\\file\\\\JupyterFile\\\\Data2020\\\\final_report\\\\shooting_black_2015-2020.html'"
      ]
     },
     "execution_count": 8,
     "metadata": {},
     "output_type": "execute_result"
    }
   ],
   "source": [
    "timeline = Timeline(init_opts=opts.InitOpts(width=\"1980px\", height=\"1080px\",theme=ThemeType.DARK))\n",
    "for y in range(2015, 2021):\n",
    "    timeline.add(get_allcharts(y,shooting), time_point=str(y))\n",
    "timeline.add_schema(is_auto_play=True, play_interval=1000,is_timeline_show = True,orient=\"vertical\",width=\"3%\",\n",
    "                   pos_top = \"4%\",pos_left = \"95%\",pos_bottom = \"2%\")\n",
    "timeline.render(\"shooting_black_2015-2020.html\")"
   ]
  }
 ],
 "metadata": {
  "@webio": {
   "lastCommId": null,
   "lastKernelId": null
  },
  "kernelspec": {
   "display_name": "Python [conda env:root] *",
   "language": "python",
   "name": "conda-root-py"
  },
  "language_info": {
   "codemirror_mode": {
    "name": "ipython",
    "version": 3
   },
   "file_extension": ".py",
   "mimetype": "text/x-python",
   "name": "python",
   "nbconvert_exporter": "python",
   "pygments_lexer": "ipython3",
   "version": "3.7.9"
  }
 },
 "nbformat": 4,
 "nbformat_minor": 2
}
